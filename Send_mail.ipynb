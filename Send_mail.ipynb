{
  "nbformat": 4,
  "nbformat_minor": 0,
  "metadata": {
    "colab": {
      "name": "Send_mail.ipynb",
      "provenance": [],
      "collapsed_sections": [],
      "authorship_tag": "ABX9TyPXIVd9umnCvVpGkiJNOW6s",
      "include_colab_link": true
    },
    "kernelspec": {
      "name": "python3",
      "display_name": "Python 3"
    },
    "language_info": {
      "name": "python"
    }
  },
  "cells": [
    {
      "cell_type": "markdown",
      "metadata": {
        "id": "view-in-github",
        "colab_type": "text"
      },
      "source": [
        "<a href=\"https://colab.research.google.com/github/KevinTheRainmaker/BugBug/blob/main/Send_mail.ipynb\" target=\"_parent\"><img src=\"https://colab.research.google.com/assets/colab-badge.svg\" alt=\"Open In Colab\"/></a>"
      ]
    },
    {
      "cell_type": "code",
      "source": [
        "# !pip install -q schedule"
      ],
      "metadata": {
        "id": "BN5uB31TSSZj"
      },
      "execution_count": null,
      "outputs": []
    },
    {
      "cell_type": "code",
      "execution_count": 49,
      "metadata": {
        "id": "GmewmKEEJqw5"
      },
      "outputs": [],
      "source": [
        "# import schedule\n",
        "\n",
        "def sendMail(attachment):\n",
        "    import smtplib\n",
        "    from email.mime.multipart import MIMEMultipart\n",
        "    from email.mime.base import MIMEBase\n",
        "    # from string import Template\n",
        "    from email.mime.text import MIMEText\n",
        "    from email.mime.image import MIMEImage\n",
        "    from email import encoders\n",
        "\n",
        "    #Sender Info\n",
        "    me = 'leglength28gpa@gmail.com'\n",
        "    my_password = \"don'tgorock\"\n",
        "\n",
        "    # Login\n",
        "    s = smtplib.SMTP_SSL('smtp.gmail.com')\n",
        "    s.login(me, my_password)\n",
        "\n",
        "    # Reciever Info\n",
        "    email_list = ['gsa15008@gmail.com', 'sweetrainforyou@gmail.com']\n",
        "\n",
        "    for you in email_list:\n",
        "        # Email Info\n",
        "        assert isinstance(template, Template)\n",
        "        assert isinstance(template_params, dict)\n",
        "        msg = MIMEMultipart('alternative')\n",
        "        msg['Subject'] = f\"\"\n",
        "        msg['From'] = me\n",
        "        msg['To'] = you\n",
        "\n",
        "        # Email Contents\n",
        "        content = template\n",
        "        part2 = MIMEText(content, 'plain')\n",
        "        msg.attach(part2)\n",
        "        part = MIMEBase('application', \"octet-stream\")\n",
        "        with open(f\"./{attachment}\", 'rb') as file:\n",
        "            part.set_payload(file.read())\n",
        "            encoders.encode_base64(part)\n",
        "            part.add_header('Content-Disposition', \"attachment\", filename=f\"{attachment}\")\n",
        "            msg.attach(part)\n",
        "\n",
        "            # e메일 본문에 이미지를 임베딩한다\n",
        "            # mime_img = MIMEImage(file.read())\n",
        "            # msg.attach(mime_img)\n",
        "\n",
        "        # Sending Email and quit server\n",
        "        s.sendmail(me, you, msg.as_string())\n",
        "        print(\"\\nEmail is sented!\")\n",
        "\n",
        "    s.quit()"
      ]
    },
    {
      "cell_type": "code",
      "source": [
        "# Testing\n",
        "# schedule.every().days.at(\"23:15\").do(sendMail('test.txt'))"
      ],
      "metadata": {
        "id": "tMGZ7dVgSGvG"
      },
      "execution_count": 50,
      "outputs": []
    },
    {
      "cell_type": "code",
      "source": [
        "# !touch test.txt"
      ],
      "metadata": {
        "id": "EYmYbJsLTjUO"
      },
      "execution_count": 51,
      "outputs": []
    },
    {
      "cell_type": "code",
      "source": [
        "sendMail('test.txt')"
      ],
      "metadata": {
        "colab": {
          "base_uri": "https://localhost:8080/",
          "height": 312
        },
        "id": "7BivaOT_niOZ",
        "outputId": "db049311-dc44-4c5c-bbd3-e42149fa8961"
      },
      "execution_count": 52,
      "outputs": [
        {
          "output_type": "error",
          "ename": "AttributeError",
          "evalue": "ignored",
          "traceback": [
            "\u001b[0;31m---------------------------------------------------------------------------\u001b[0m",
            "\u001b[0;31mAttributeError\u001b[0m                            Traceback (most recent call last)",
            "\u001b[0;32m<ipython-input-52-c56ad966c8ef>\u001b[0m in \u001b[0;36m<module>\u001b[0;34m()\u001b[0m\n\u001b[0;32m----> 1\u001b[0;31m \u001b[0msendMail\u001b[0m\u001b[0;34m(\u001b[0m\u001b[0;34m'test.txt'\u001b[0m\u001b[0;34m)\u001b[0m\u001b[0;34m\u001b[0m\u001b[0;34m\u001b[0m\u001b[0m\n\u001b[0m",
            "\u001b[0;32m<ipython-input-49-29bc58eec14e>\u001b[0m in \u001b[0;36msendMail\u001b[0;34m(attachment)\u001b[0m\n\u001b[1;32m     32\u001b[0m         \u001b[0;31m# Email Contents\u001b[0m\u001b[0;34m\u001b[0m\u001b[0;34m\u001b[0m\u001b[0;34m\u001b[0m\u001b[0m\n\u001b[1;32m     33\u001b[0m         \u001b[0mcontent\u001b[0m \u001b[0;34m=\u001b[0m \u001b[0mtemplate\u001b[0m\u001b[0;34m\u001b[0m\u001b[0;34m\u001b[0m\u001b[0m\n\u001b[0;32m---> 34\u001b[0;31m         \u001b[0mpart2\u001b[0m \u001b[0;34m=\u001b[0m \u001b[0mMIMEText\u001b[0m\u001b[0;34m(\u001b[0m\u001b[0mcontent\u001b[0m\u001b[0;34m,\u001b[0m \u001b[0;34m'plain'\u001b[0m\u001b[0;34m)\u001b[0m\u001b[0;34m\u001b[0m\u001b[0;34m\u001b[0m\u001b[0m\n\u001b[0m\u001b[1;32m     35\u001b[0m         \u001b[0mmsg\u001b[0m\u001b[0;34m.\u001b[0m\u001b[0mattach\u001b[0m\u001b[0;34m(\u001b[0m\u001b[0mpart2\u001b[0m\u001b[0;34m)\u001b[0m\u001b[0;34m\u001b[0m\u001b[0;34m\u001b[0m\u001b[0m\n\u001b[1;32m     36\u001b[0m         \u001b[0mpart\u001b[0m \u001b[0;34m=\u001b[0m \u001b[0mMIMEBase\u001b[0m\u001b[0;34m(\u001b[0m\u001b[0;34m'application'\u001b[0m\u001b[0;34m,\u001b[0m \u001b[0;34m\"octet-stream\"\u001b[0m\u001b[0;34m)\u001b[0m\u001b[0;34m\u001b[0m\u001b[0;34m\u001b[0m\u001b[0m\n",
            "\u001b[0;32m/usr/lib/python3.7/email/mime/text.py\u001b[0m in \u001b[0;36m__init__\u001b[0;34m(self, _text, _subtype, _charset, policy)\u001b[0m\n\u001b[1;32m     32\u001b[0m         \u001b[0;32mif\u001b[0m \u001b[0m_charset\u001b[0m \u001b[0;32mis\u001b[0m \u001b[0;32mNone\u001b[0m\u001b[0;34m:\u001b[0m\u001b[0;34m\u001b[0m\u001b[0;34m\u001b[0m\u001b[0m\n\u001b[1;32m     33\u001b[0m             \u001b[0;32mtry\u001b[0m\u001b[0;34m:\u001b[0m\u001b[0;34m\u001b[0m\u001b[0;34m\u001b[0m\u001b[0m\n\u001b[0;32m---> 34\u001b[0;31m                 \u001b[0m_text\u001b[0m\u001b[0;34m.\u001b[0m\u001b[0mencode\u001b[0m\u001b[0;34m(\u001b[0m\u001b[0;34m'us-ascii'\u001b[0m\u001b[0;34m)\u001b[0m\u001b[0;34m\u001b[0m\u001b[0;34m\u001b[0m\u001b[0m\n\u001b[0m\u001b[1;32m     35\u001b[0m                 \u001b[0m_charset\u001b[0m \u001b[0;34m=\u001b[0m \u001b[0;34m'us-ascii'\u001b[0m\u001b[0;34m\u001b[0m\u001b[0;34m\u001b[0m\u001b[0m\n\u001b[1;32m     36\u001b[0m             \u001b[0;32mexcept\u001b[0m \u001b[0mUnicodeEncodeError\u001b[0m\u001b[0;34m:\u001b[0m\u001b[0;34m\u001b[0m\u001b[0;34m\u001b[0m\u001b[0m\n",
            "\u001b[0;31mAttributeError\u001b[0m: 'Template' object has no attribute 'encode'"
          ]
        }
      ]
    },
    {
      "cell_type": "code",
      "source": [
        "import os, copy\n",
        "import smtplib               # SMTP 라이브러리\n",
        "from string import Template  # 문자열 템플릿 모듈\n",
        "from email.mime.multipart import MIMEMultipart\n",
        "from email.mime.text      import MIMEText\n",
        "from email.mime.image     import MIMEImage\n",
        "\n",
        "class EmailHTMLImageContent:\n",
        "    \"\"\"e메일에 담길 이미지가 포함된 컨텐츠\"\"\"\n",
        "    def __init__(self, str_subject, str_image_file_name, str_cid_name, template, template_params):\n",
        "        \"\"\"이미지파일(str_image_file_name), 컨텐츠ID(str_cid_name)사용된 string template과 딕셔너리형 template_params받아 MIME 메시지를 만든다\"\"\"\n",
        "        assert isinstance(template, Template)\n",
        "        assert isinstance(template_params, dict)\n",
        "        self.msg = MIMEMultipart()\n",
        "        \n",
        "        # e메일 제목을 설정한다\n",
        "        self.msg['Subject'] = str_subject # e메일 제목을 설정한다\n",
        "        \n",
        "        # e메일 본문을 설정한다\n",
        "        str_msg  = template.safe_substitute(**template_params) # ${변수} 치환하며 문자열 만든다\n",
        "        mime_msg = MIMEText(str_msg, 'html')                   # MIME HTML 문자열을 만든다\n",
        "        self.msg.attach(mime_msg)\n",
        "        \n",
        "        # e메일 본문에 이미지를 임베딩한다\n",
        "        assert template.template.find(\"cid:\" + str_cid_name) >= 0, 'template must have cid for embedded image.'\n",
        "        assert os.path.isfile(str_image_file_name), 'image file does not exist.'        \n",
        "        with open(str_image_file_name, 'rb') as img_file:\n",
        "            mime_img = MIMEImage(img_file.read())\n",
        "            mime_img.add_header('Content-ID', '<' + str_cid_name + '>')\n",
        "        self.msg.attach(mime_img)\n",
        "        \n",
        "    def get_message(self, str_from_email_addr, str_to_eamil_addrs):\n",
        "        \"\"\"발신자, 수신자리스트를 이용하여 보낼메시지를 만든다 \"\"\"\n",
        "        mm = copy.deepcopy(self.msg)\n",
        "        mm['From'] = str_from_email_addr          # 발신자 \n",
        "        mm['To']   = \",\".join(str_to_eamil_addrs) # 수신자리스트 \n",
        "        return mm\n",
        "\n",
        "class emailSender:\n",
        "    \"\"\"e메일 발송자\"\"\"\n",
        "    #Sender Info\n",
        "    me = 'leglength28gpa@gmail.com'\n",
        "    my_password = \"don'tgorock\"\n",
        "\n",
        "    def __init__(self, str_host, me, my_password, num_port=25):\n",
        "        \"\"\"호스트와 포트번호로 SMTP로 연결한다 \"\"\"\n",
        "        self.str_host = str_host\n",
        "        self.num_port = num_port\n",
        "        self.ss = smtplib.SMTP_SSL('smtp.gmail.com')\n",
        "        self.me = me\n",
        "        self.my_password = my_password\n",
        "        # SMTP인증이 필요하면 아래 주석을 해제하세요.\n",
        "        # self.ss.starttls() # TLS(Transport Layer Security) 시작\n",
        "        # self.ss.login('leglength28gpa@gmail.com', \"don'tgorock\") # 메일서버에 연결한 계정과 비밀번호\n",
        "    \n",
        "    def send_message(self, emailContent, str_from_email_addr, str_to_email_addrs):\n",
        "        \"\"\"e메일을 발송한다 \"\"\"\n",
        "        self.ss.login(self.me, self.my_password)\n",
        "        cc = emailContent.get_message(str_from_email_addr, str_to_email_addrs)\n",
        "        self.ss.send_message(cc, from_addr=str_from_email_addr, to_addrs=str_to_email_addrs)\n",
        "        del cc"
      ],
      "metadata": {
        "id": "i2RWMtHnnl7O"
      },
      "execution_count": 38,
      "outputs": []
    },
    {
      "cell_type": "code",
      "source": [
        "str_subject = 'hello with image'\n",
        "template = Template(\"\"\"<html>\n",
        "                            <head></head>\n",
        "                            <body>\n",
        "                                Hi ${NAME}.<br>\n",
        "                                <img src=\"cid:my_image1\"><br>\n",
        "                                This is a test message.\n",
        "                            </body>\n",
        "                        </html>\"\"\")\n",
        "template_params       = {'NAME':'Environment Lover'}\n",
        "str_image_file_name   = 'justice.png'\n",
        "str_cid_name          = 'my_image1'\n",
        "emailHTMLImageContent = EmailHTMLImageContent(str_subject, str_image_file_name, str_cid_name, template, template_params)\n",
        "\n",
        "str_from_email_addr = 'leglength28gpa@gmail.com' # 발신자\n",
        "str_to_email_addrs  = ['sweetrainforyou@gmail.com', 'gsa15008@gmail.com'] # 수신자리스트\n",
        "emailSender.send_message(emailHTMLImageContent, str_from_email_addr, str_to_email_addrs)"
      ],
      "metadata": {
        "colab": {
          "base_uri": "https://localhost:8080/",
          "height": 201
        },
        "id": "F3VD9JtTqcKM",
        "outputId": "50ace20e-d02a-4394-b34b-f6961b09382d"
      },
      "execution_count": 39,
      "outputs": [
        {
          "output_type": "error",
          "ename": "TypeError",
          "evalue": "ignored",
          "traceback": [
            "\u001b[0;31m---------------------------------------------------------------------------\u001b[0m",
            "\u001b[0;31mTypeError\u001b[0m                                 Traceback (most recent call last)",
            "\u001b[0;32m<ipython-input-39-6aeac4590314>\u001b[0m in \u001b[0;36m<module>\u001b[0;34m()\u001b[0m\n\u001b[1;32m     15\u001b[0m \u001b[0mstr_from_email_addr\u001b[0m \u001b[0;34m=\u001b[0m \u001b[0;34m'leglength28gpa@gmail.com'\u001b[0m \u001b[0;31m# 발신자\u001b[0m\u001b[0;34m\u001b[0m\u001b[0;34m\u001b[0m\u001b[0m\n\u001b[1;32m     16\u001b[0m \u001b[0mstr_to_email_addrs\u001b[0m  \u001b[0;34m=\u001b[0m \u001b[0;34m[\u001b[0m\u001b[0;34m'sweetrainforyou@gmail.com'\u001b[0m\u001b[0;34m,\u001b[0m \u001b[0;34m'gsa15008@gmail.com'\u001b[0m\u001b[0;34m]\u001b[0m \u001b[0;31m# 수신자리스트\u001b[0m\u001b[0;34m\u001b[0m\u001b[0;34m\u001b[0m\u001b[0m\n\u001b[0;32m---> 17\u001b[0;31m \u001b[0memailSender\u001b[0m\u001b[0;34m.\u001b[0m\u001b[0msend_message\u001b[0m\u001b[0;34m(\u001b[0m\u001b[0memailHTMLImageContent\u001b[0m\u001b[0;34m,\u001b[0m \u001b[0mstr_from_email_addr\u001b[0m\u001b[0;34m,\u001b[0m \u001b[0mstr_to_email_addrs\u001b[0m\u001b[0;34m)\u001b[0m\u001b[0;34m\u001b[0m\u001b[0;34m\u001b[0m\u001b[0m\n\u001b[0m",
            "\u001b[0;31mTypeError\u001b[0m: send_message() missing 1 required positional argument: 'str_to_email_addrs'"
          ]
        }
      ]
    },
    {
      "cell_type": "code",
      "source": [
        "import smtplib\n",
        "from email.mime.text import MIMEText\n",
        "from email.mime.base import MIMEBase\n",
        "from email.mime.multipart import MIMEMultipart\n",
        "from email import encoders\n",
        "import os\n",
        "\n",
        "\n",
        "send_Mail = 'gsa15008@gmail.com'\n",
        "smtp = smtplib.SMTP_SSL('smtp.gmail.com',465)\n",
        "smtp.login('leglength28gpa@gmail.com', \"don'tgorock\")                        #보낼 이메일의 이메일,비번\n",
        "\n",
        "\n",
        "msg = MIMEMultipart('alternative')\n",
        "cont = MIMEText('바다거북 이야기', 'plain', 'utf-8')\n",
        "msg['Subject'] = 'The 1st News Letter'\n",
        "msg['From'] = 'leglength28gpa@gmail.com'                             #보낼 사람의 이메일\n",
        "msg['To'] = send_Mail\n",
        "msg.attach(cont)\n",
        "path = r'/content/justice.png' #보낼 이미지의 경로\n",
        "part = MIMEBase(\"application\", \"octet-stream\")\n",
        "part.set_payload(open(path, 'rb').read())\n",
        "encoders.encode_base64(part)\n",
        "part.add_header('Content-Disposition',\n",
        "        'attachment; filename=\"%s\"'% os.path.basename(path))\n",
        "mime_img = MIMEImage(part.read())\n",
        "msg.attach(part)\n",
        "smtp.sendmail('leglength28gpa@gmail.com', send_Mail, msg.as_string())   #보낼 사람의 이메일\n",
        "smtp.quit()"
      ],
      "metadata": {
        "colab": {
          "base_uri": "https://localhost:8080/"
        },
        "id": "9SajGDTIq4hR",
        "outputId": "38bd6419-3d5e-4640-8971-adbb56125fc6"
      },
      "execution_count": 10,
      "outputs": [
        {
          "output_type": "execute_result",
          "data": {
            "text/plain": [
              "(221, b'2.0.0 closing connection hk18sm773676pjb.41 - gsmtp')"
            ]
          },
          "metadata": {},
          "execution_count": 10
        }
      ]
    },
    {
      "cell_type": "code",
      "source": [
        "import smtplib\n",
        "from email.message import EmailMessage\n",
        "import imghdr\n",
        "\n",
        "SMTP_SERVER = \"smtp.gmail.com\"\n",
        "SMTP_PORT = 465\n",
        "\n",
        "message = EmailMessage()\n",
        "message.set_content(\"Fuck You Hackerton\")\n",
        "\n",
        "message[\"Subject\"] = \"제ㅔㅔㅔㅔㅔㅔㅔㅔㅔ목\"\n",
        "message[\"From\"] = \"leglength28gpa@gmail.com\"\n",
        "message[\"To\"] = \"sweetrainforyou@gmail.com\"\n",
        "\n",
        "with open(\"justice.png\",\"rb\") as image:\n",
        "    image_file = image.read()\n",
        "\n",
        "image_type = imghdr.what('dgdr',image_file)\n",
        "message.add_attachment(image_file,maintype='image',subtype=image_type)\n",
        "\n",
        "smtp = smtplib.SMTP_SSL(SMTP_SERVER,SMTP_PORT)\n",
        "smtp.login(\"leglength28gpa@gmail.com\",\"don'tgorock\")\n",
        "smtp.send_message(message)\n",
        "smtp.quit()"
      ],
      "metadata": {
        "colab": {
          "base_uri": "https://localhost:8080/"
        },
        "id": "rmpMas-ew2PU",
        "outputId": "023c9dd7-a535-48e9-87eb-2c90ddcb740b"
      },
      "execution_count": 11,
      "outputs": [
        {
          "output_type": "execute_result",
          "data": {
            "text/plain": [
              "(221, b'2.0.0 closing connection pc4sm3296519pjb.3 - gsmtp')"
            ]
          },
          "metadata": {},
          "execution_count": 11
        }
      ]
    },
    {
      "cell_type": "code",
      "source": [
        "import smtplib\n",
        "from email.mime.text import MIMEText\n",
        "from email.mime.multipart import MIMEMultipart\n",
        "from email.mime.base import MIMEBase\n",
        "from email import encoders\n",
        "\n",
        "sender = \"leglength28gpa@gmail.com\"\n",
        "recipient = 'kgbko1117@naver.com'\n",
        "cc = \"sweetrainforyou@gmail.com\"\n",
        "\n",
        "title = '쉬이이ㅣ이발'\n",
        "contents = '''\n",
        "뻑유 썬더\n",
        "'''\n",
        "\n",
        "attach_file_name_1 = 'justice.png'\n",
        "attach_file_name_2 = 'justice2.png'\n",
        "\n",
        "msg = MIMEMultipart()\n",
        "msg['From'] = sender\n",
        "msg['To'] = recipient\n",
        "msg['Subject'] = title\n",
        "msg['Cc'] = cc\n",
        "\n",
        "\n",
        "msg.attach(MIMEText(contents, 'plain'))\n",
        "\n",
        "##### attach file 1\n",
        "attached_file = open(attach_file_name_1, 'rb').read()\n",
        "att = MIMEBase('application', 'vnd.openxmlformats-officedocument.spreadsheetml.sheet')\n",
        "\n",
        "att.set_payload(attached_file)\n",
        "encoders.encode_base64(att)\n",
        "att.add_header('Content-Disposition', 'attachment', filename=attach_file_name_1)\n",
        "\n",
        "msg.attach(att)\n",
        "\n",
        "\n",
        "\n",
        "##### attach file 2\n",
        "# msg.attach(MIMEText(contents, 'plain'))\n",
        "attached_file = open(attach_file_name_2, 'rb').read()\n",
        "att = MIMEBase('application', 'vnd.openxmlformats-officedocument.spreadsheetml.sheet')\n",
        "\n",
        "att.set_payload(attached_file)\n",
        "encoders.encode_base64(att)\n",
        "att.add_header('Content-Disposition', 'attachment', filename=attach_file_name_2)\n",
        "\n",
        "msg.attach(att)\n",
        "\n",
        "\n",
        "\n",
        "smtp_server = smtplib.SMTP_SSL('smtp.gmail.com',465)\n",
        "smtp_server.login('leglength28gpa@gmail.com', \"don'tgorock\")                        #보낼 이메일의 이메일,비번\n",
        "smtp_server.sendmail(from_addr=sender, to_addrs=recipient, msg=msg.as_string())\n",
        "smtp_server.quit()"
      ],
      "metadata": {
        "colab": {
          "base_uri": "https://localhost:8080/"
        },
        "id": "dz6LBud6zbb3",
        "outputId": "9192a900-bd6b-42f2-ff2e-f4720c13608c"
      },
      "execution_count": 20,
      "outputs": [
        {
          "output_type": "execute_result",
          "data": {
            "text/plain": [
              "(221, b'2.0.0 closing connection d12sm2370790pgk.29 - gsmtp')"
            ]
          },
          "metadata": {},
          "execution_count": 20
        }
      ]
    },
    {
      "cell_type": "code",
      "source": [
        ""
      ],
      "metadata": {
        "id": "t1bLN08Q0g49"
      },
      "execution_count": null,
      "outputs": []
    }
  ]
}